{
 "cells": [
  {
   "cell_type": "markdown",
   "metadata": {},
   "source": [
    "# Lab | Intro to Probability"
   ]
  },
  {
   "cell_type": "markdown",
   "metadata": {},
   "source": [
    "**Objective**\n",
    "\n",
    "Welcome to this Intro to Probability lab, where we explore decision-making scenarios through the lens of probability and strategic analysis. In the business world, making informed decisions is crucial, especially when faced with uncertainties. This lab focuses on scenarios where probabilistic outcomes play a significant role in shaping strategies and outcomes. Students will engage in exercises that require assessing and choosing optimal paths based on data-driven insights. The goal is to enhance your skills by applying probability concepts to solve real-world problems."
   ]
  },
  {
   "cell_type": "markdown",
   "metadata": {},
   "source": [
    "**Challenge 1**"
   ]
  },
  {
   "cell_type": "markdown",
   "metadata": {},
   "source": [
    "#### Ironhack Airlines \n",
    "\n",
    "Often Airlines sell more tickets than they have seats available, this is called overbooking. Consider the following:\n",
    "- A plane has 450 seats. \n",
    "- Based on historical data we conclude that each individual passenger has a 3% chance of missing it's flight. \n",
    "\n",
    "If the Ironhack Airlines routinely sells 460 tickets, what is the chance that they have a seats for all passenger?"
   ]
  },
  {
   "cell_type": "code",
   "execution_count": 1,
   "metadata": {},
   "outputs": [
    {
     "name": "stdout",
     "output_type": "stream",
     "text": [
      "The probability that 450 or fewer passengers show up is: 0.8845\n"
     ]
    }
   ],
   "source": [
    "import scipy.stats as stats\n",
    "\n",
    "# Define variables\n",
    "n_tickets_sold = 460\n",
    "p_show_up = 0.97\n",
    "n_seats = 450\n",
    "\n",
    "# Calculate the cumulative probability that 450 or fewer passengers show up\n",
    "probability = stats.binom.cdf(n_seats, n_tickets_sold, p_show_up)\n",
    "\n",
    "print(f\"The probability that 450 or fewer passengers show up is: {probability:.4f}\")\n"
   ]
  },
  {
   "cell_type": "markdown",
   "metadata": {},
   "source": [
    "**Challenge 2**"
   ]
  },
  {
   "cell_type": "markdown",
   "metadata": {},
   "source": [
    "#### Ironhack Call Center "
   ]
  },
  {
   "cell_type": "markdown",
   "metadata": {},
   "source": [
    "Suppose a customer service representative at a call center is handling customer complaints. Consider the following:\n",
    "- The probability of successfully resolving a customer complaint on the first attempt is 0.3. \n",
    "\n",
    "\n",
    "What is the probability that the representative needs to make at least three attempts before successfully resolving a customer complaint?"
   ]
  },
  {
   "cell_type": "code",
   "execution_count": 2,
   "metadata": {},
   "outputs": [
    {
     "name": "stdout",
     "output_type": "stream",
     "text": [
      "The probability that at least 3 attempts are needed: 0.4900\n"
     ]
    }
   ],
   "source": [
    "# Define the probability of success and failure\n",
    "p_success = 0.3\n",
    "p_failure = 0.7\n",
    "\n",
    "# Calculate the probability of needing at least 3 attempts (method 1)\n",
    "probability_at_least_3_attempts = p_failure * p_failure\n",
    "print(f\"The probability that at least 3 attempts are needed: {probability_at_least_3_attempts:.4f}\")"
   ]
  },
  {
   "cell_type": "markdown",
   "metadata": {},
   "source": [
    "**Challenge 3**"
   ]
  },
  {
   "cell_type": "markdown",
   "metadata": {},
   "source": [
    "#### Ironhack Website"
   ]
  },
  {
   "cell_type": "markdown",
   "metadata": {},
   "source": [
    "Consider a scenario related to Ironhack website traffic. Where:\n",
    "- our website takes on average 500 visits per hour.\n",
    "- the website's server is designed to handle up to 550 vists per hour.\n",
    "\n",
    "\n",
    "What is the probability of the website server being overwhelmed?"
   ]
  },
  {
   "cell_type": "code",
   "execution_count": 3,
   "metadata": {},
   "outputs": [
    {
     "name": "stdout",
     "output_type": "stream",
     "text": [
      "The probability of the website server being overwhelmed is: 0.0129\n"
     ]
    }
   ],
   "source": [
    "\n",
    "# Define the average rate (λ) and the threshold\n",
    "average_visits_per_hour = 500\n",
    "max_visits_per_hour = 550\n",
    "\n",
    "# Calculate the probability of having at most 550 visits\n",
    "probability_at_most_550 = stats.poisson.cdf(max_visits_per_hour, average_visits_per_hour)\n",
    "\n",
    "# Calculate the probability of having more than 550 visits (server being overwhelmed)\n",
    "probability_overwhelmed = 1 - probability_at_most_550\n",
    "\n",
    "print(f\"The probability of the website server being overwhelmed is: {probability_overwhelmed:.4f}\")\n"
   ]
  },
  {
   "cell_type": "markdown",
   "metadata": {},
   "source": [
    "What is the probability of being overwhelmed at some point during a day? (consider 24hours)"
   ]
  },
  {
   "cell_type": "code",
   "execution_count": 4,
   "metadata": {},
   "outputs": [
    {
     "name": "stdout",
     "output_type": "stream",
     "text": [
      "The probability of the website server being overwhelmed at least once during a day is: 0.2677\n"
     ]
    }
   ],
   "source": [
    "\n",
    "# Define the average rate (λ) and the threshold\n",
    "average_visits_per_hour = 500\n",
    "max_visits_per_hour = 550\n",
    "\n",
    "# Calculate the probability of having at most 550 visits in an hour\n",
    "probability_at_most_550 = stats.poisson.cdf(max_visits_per_hour, average_visits_per_hour)\n",
    "\n",
    "# Calculate the probability of not being overwhelmed in an hour\n",
    "probability_not_overwhelmed_per_hour = probability_at_most_550\n",
    "\n",
    "# Calculate the probability of not being overwhelmed for 24 hours\n",
    "probability_not_overwhelmed_24_hours = probability_not_overwhelmed_per_hour ** 24\n",
    "\n",
    "# Calculate the probability of being overwhelmed at least once in 24 hours\n",
    "probability_overwhelmed_24_hours = 1 - probability_not_overwhelmed_24_hours\n",
    "\n",
    "print(f\"The probability of the website server being overwhelmed at least once during a day is: {probability_overwhelmed_24_hours:.4f}\")\n"
   ]
  },
  {
   "cell_type": "markdown",
   "metadata": {},
   "source": [
    "**Challenge 4**"
   ]
  },
  {
   "cell_type": "markdown",
   "metadata": {},
   "source": [
    "#### Ironhack Helpdesk"
   ]
  },
  {
   "cell_type": "markdown",
   "metadata": {},
   "source": [
    "Consider a scenario related to the time between arrivals of customers at a service desk.\n",
    "\n",
    "On average, a customers arrives every 10minutes.\n",
    "\n",
    "What is the probability that the next customer will arrive within the next 5 minutes?"
   ]
  },
  {
   "cell_type": "code",
   "execution_count": 5,
   "metadata": {},
   "outputs": [
    {
     "name": "stdout",
     "output_type": "stream",
     "text": [
      "The probability that the next customer will arrive within the next 5 minutes is: 0.3935\n"
     ]
    }
   ],
   "source": [
    "\n",
    "# Define the rate parameter (λ)\n",
    "rate_parameter = 1 / 10  # 1 arrival every 10 minutes\n",
    "\n",
    "# Define the time period we are interested in (5 minutes)\n",
    "time_period = 5\n",
    "\n",
    "# Calculate the probability using the CDF of the exponential distribution\n",
    "probability_within_5_minutes = stats.expon.cdf(time_period, scale=1/rate_parameter)\n",
    "\n",
    "print(f\"The probability that the next customer will arrive within the next 5 minutes is: {probability_within_5_minutes:.4f}\")\n"
   ]
  },
  {
   "cell_type": "markdown",
   "metadata": {},
   "source": [
    "If there is no customer for 15minutes, employees can that a 5minutes break.\n",
    "\n",
    "What is the probability an employee taking a break?"
   ]
  },
  {
   "cell_type": "code",
   "execution_count": 6,
   "metadata": {},
   "outputs": [
    {
     "name": "stdout",
     "output_type": "stream",
     "text": [
      "The probability that no customer arrives within 15 minutes is: 0.2231\n"
     ]
    }
   ],
   "source": [
    "\n",
    "# Define the rate parameter (λ)\n",
    "rate_parameter = 1 / 10  # 1 arrival every 10 minutes\n",
    "\n",
    "# Define the time period we are interested in (15 minutes)\n",
    "time_period = 15\n",
    "\n",
    "# Calculate the probability that no customer arrives within 15 minutes\n",
    "probability_no_arrival_15_minutes = stats.expon.sf(time_period, scale=1/rate_parameter)\n",
    "\n",
    "print(f\"The probability that no customer arrives within 15 minutes is: {probability_no_arrival_15_minutes:.4f}\")\n"
   ]
  },
  {
   "cell_type": "markdown",
   "metadata": {},
   "source": [
    "**Challenge 5**"
   ]
  },
  {
   "cell_type": "markdown",
   "metadata": {},
   "source": [
    "The weights of a certain species of birds follow a normal distribution with a mean weight of 150 grams and a standard deviation of 10 grams. \n",
    "\n",
    "- If we randomly select a bird, what is the probability that its weight is between 140 and 160 grams?"
   ]
  },
  {
   "cell_type": "code",
   "execution_count": 7,
   "metadata": {},
   "outputs": [
    {
     "name": "stdout",
     "output_type": "stream",
     "text": [
      "The probability that a randomly selected bird weighs between 140 and 160 grams is: 0.6827\n"
     ]
    }
   ],
   "source": [
    "\n",
    "\n",
    "# Given parameters\n",
    "mean = 150\n",
    "std_dev = 10\n",
    "\n",
    "# Values to standardize\n",
    "value1 = 140\n",
    "value2 = 160\n",
    "\n",
    "# Standardize the values to z-scores\n",
    "z1 = (value1 - mean) / std_dev\n",
    "z2 = (value2 - mean) / std_dev\n",
    "\n",
    "# Calculate the cumulative probabilities\n",
    "p1 = stats.norm.cdf(z1)\n",
    "p2 = stats.norm.cdf(z2)\n",
    "\n",
    "# Find the probability of being between 140 and 160 grams\n",
    "probability_between_140_and_160 = p2 - p1\n",
    "\n",
    "print(f\"The probability that a randomly selected bird weighs between 140 and 160 grams is: {probability_between_140_and_160:.4f}\")\n"
   ]
  },
  {
   "cell_type": "markdown",
   "metadata": {},
   "source": [
    "**Challenge 6**"
   ]
  },
  {
   "cell_type": "markdown",
   "metadata": {},
   "source": [
    "If the lifetime (in hours) of a certain electronic component follows an exponential distribution with a mean lifetime of 50 hours, what is the probability that the component fails within the first 30 hours?"
   ]
  },
  {
   "cell_type": "code",
   "execution_count": 9,
   "metadata": {},
   "outputs": [
    {
     "name": "stdout",
     "output_type": "stream",
     "text": [
      "The probability that the component fails within the first 30 hours is: 0.4512\n"
     ]
    }
   ],
   "source": [
    "\n",
    "# Given parameters\n",
    "mean_lifetime = 50\n",
    "rate_parameter = 1 / mean_lifetime\n",
    "time_period = 30\n",
    "\n",
    "# Calculate the probability using the CDF of the exponential distribution\n",
    "probability_failure_within_30_hours = 1 - np.exp(-rate_parameter * time_period)\n",
    "\n",
    "print(f\"The probability that the component fails within the first 30 hours is: {probability_failure_within_30_hours:.4f}\")\n"
   ]
  }
 ],
 "metadata": {
  "kernelspec": {
   "display_name": "Python 3 (ipykernel)",
   "language": "python",
   "name": "python3"
  },
  "language_info": {
   "codemirror_mode": {
    "name": "ipython",
    "version": 3
   },
   "file_extension": ".py",
   "mimetype": "text/x-python",
   "name": "python",
   "nbconvert_exporter": "python",
   "pygments_lexer": "ipython3",
   "version": "3.11.7"
  }
 },
 "nbformat": 4,
 "nbformat_minor": 4
}
